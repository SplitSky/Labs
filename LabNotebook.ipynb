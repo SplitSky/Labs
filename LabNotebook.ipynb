{
 "cells": [
  {
   "cell_type": "markdown",
   "metadata": {},
   "source": [
    "# About this Notebook\n",
    "\n",
    "This is a Python notebook. This is the notebook you'll use to run the analysis code on data sets of your choice, and also to view the resulting histograms from your analysis. This Jupyter notebook is composed of three sections:\n",
    "\n",
    "1. Executing the *RunAnalysis.py* script which will utilise the current version of *Analysis.py* on your user area to analyse specific data sets of your choosing, and generate histograms from these data sets.\n",
    "\n",
    "2. Reading in .root files containing the histograms you made from running the *RunAnalysis.py* script, so that you can view them and extract useful numerical information from them.\n",
    "\n",
    "3. A template for making stacked plots from histograms you have created.\n",
    "\n",
    "If this is your first time using Jupyter Notebook, and have any questions on how it works, please consult the online user documentation [here](https://jupyter-notebook.readthedocs.io/en/stable/index.html). The 'help' button on the Menu bar at the top of this notebook also contains links to useful online documentation as well as a handy 'User Interface Tour'. ROOT code is used in Sections 2 and 3 of this notebook. If you have any queries concerning the functionality of the ROOT code, you can look specific functions in the [Official ROOT Reference Documentation](https://root.cern.ch/doc/master/index.html). \n",
    "\n",
    "One important point to note about using Jupyter notebook is that not all the notebook has to be run every time you want to run any part of the code - each cell can be run seperately.\n",
    "\n",
    "**IMPORTANT:** Please read and try all three sections of this notebook **before** making any edits to *Analysis.py*, and make sure you understand the functionality of each section.\n",
    "\n",
    "**IMPORTANT:** It is strongly recommended that only **one** student of a lab pair should edit this notebook and the files contained within the server directories. This is because both students cannot see the same live edit of the notebook or files at the same time, and it is easy to accidently overwrite each other.\n"
   ]
  },
  {
   "cell_type": "markdown",
   "metadata": {},
   "source": [
    "# Section 1: Executing RunAnalysis.py\n",
    "\n",
    "Within this section there is only a single cell which will execute *RunAnalysis.py* when ran. Open running this cell you will be prompted with instructions for how to choose what data sets you analyse, and how much of these data sets you wish to use. \n",
    "\n",
    "The cell must be run every time you want to analyse a data set, but be careful - once you have executed the script, output files related to the data sets you used will be generated in the *out* folder within the *ATLAS-Project* directory. If you were to run the script again for the same data sets, the .root files containing your histograms will be overwritten. Therefore it is **essential** to change the names of the .root files you make to something unique, and is clear to what the file refers to (e.g what data set, what selection cuts, etc).\n",
    "\n",
    "Another crucial point to note: *RunAnalysis.py* will not necessarily use the latest saved version of *Analysis.py*. In order to ensure that the most recent version is used, you **must** restart your kernel before running *RunAnalysis.py* after making changes to *Analysis.py*. You can do this from the 'Kernel' tab on the Menu bar at the top of this notebook. If you have not changed *Analysis.py* since last running the script, there is no need to restart your kernel.\n",
    "\n",
    "To test the cell below, run it and type \"Zee\" when prompted for the string code, and type \"yes\" when prompted if you want to run the analysis using the 1% of the entire data set."
   ]
  },
  {
   "cell_type": "code",
   "execution_count": 1,
   "metadata": {},
   "outputs": [
    {
     "name": "stdout",
     "output_type": "stream",
     "text": [
      "\n",
      "Dont forget you will need to restart the kernel for any edits you have made to Analysis.py to take effect, before running RunAnalysis.py!\n",
      "\n",
      "\n",
      "Dont forget you will need to restart the kernel for any edits you have made to Analysis.py to take effect, before running RunAnalysis.py!\n",
      "\n",
      "Welcome to JupyROOT 6.22/00\n",
      "Please enter a comma-seperated list of decay chains.\n",
      "Use '+' to add data sets together.\n",
      "Write 'text' if you would prefer to read a list from 'input.txt':\n",
      "Welcome to JupyROOT 6.22/00\n",
      "Please enter a comma-seperated list of decay chains.\n",
      "Use '+' to add data sets together.\n",
      "Write 'text' if you would prefer to read a list from 'input.txt':\n",
      "Zmumu\n",
      "\n",
      "Would you like to run in fast mode to only analyse 1% of data? (yes/no)\n",
      "\n",
      "Would you like to run in fast mode to only analyse 1% of data? (yes/no)\n",
      "yes\n",
      "Analysing Zmumu...\n",
      "Analysing Zmumu...\n",
      "23.392 seconds\n",
      "Run completed!\n",
      "23.392 seconds\n",
      "Run completed!\n"
     ]
    }
   ],
   "source": [
    "%run 'RunAnalysis.py'\n"
   ]
  },
  {
   "cell_type": "markdown",
   "metadata": {},
   "source": [
    "\"Zee\" was the \"string code\" you entered to tell RunAnalysis.py which decay chain to analyse. For future reference, more string codes for different data sets are shown in Table 4 of the Lab script. The full (rather long) list of available data sets can be found in *dataSets.py* in the sub-directory *backend*.\n",
    "\n",
    "You can tell *RunAnalysis.py* to analyse more than one data set by responding to the prompt with a list of string codes separated by commas. Histograms for each data set will be plotted in separate .root files. Sometimes it is useful to analyse more than one data set and add the results to form a single set of histograms. You can do this by responding to the prompt with string codes separated by plus signs ('+').\n",
    "  \n",
    "If you type \"text\" when asked for datasets the program will read from a list of string codes in the file *input.txt*. This allows you to avoid having to type out a long list of string codes every time you run the analysis.\n"
   ]
  },
  {
   "cell_type": "markdown",
   "metadata": {},
   "source": [
    "# Section 2: Viewing your histograms\n",
    "\n",
    "Within this section there are 3 cells which all contain 3 different parts of the code structure for viewing histograms. The reason the code is split into 3 cells is that not all the cells need to be executed together. The cell structure for this section is as follows:\n",
    "\n",
    "1. Making essential imports, such as allowing Python to use ROOT\n",
    "2. Opening .root files and retrieving the histograms stored within\n",
    "3. Printing the histograms\n",
    "\n",
    "When viewing your own histograms you will need to edit the code in both the second and third cell for your specific .root files. This includes the .root file names, the histogram names, and choosing what histograms you view.\n",
    "\n",
    "The third cell is set up so that when using the default version of *Analysis.py*, you are reading in the file *Zee_fast.root* that you will have created in Section 1 of this notebook. From this file you are viewing two of the histograms made: *h_3lep_pt* and *h_lep_mean_pt*.\n",
    "\n",
    "A note about the third cell: Here TCanvas is used for each histogram you would like to plot. Whenever you want to plot anything with ROOT you use a TCanvas. One is created by default, but it is always useful to create your own so that you can manipulate it better. For more information on TCanvas, please click [here](https://root.cern.ch/doc/master/classTCanvas.html). The third shell is also an example of showing two histograms from the .root file, it can easily be extended to view as many as needed."
   ]
  },
  {
   "cell_type": "code",
   "execution_count": null,
   "metadata": {},
   "outputs": [],
   "source": [
    "# Making essential imports - This cell only needs to be run ONCE for every new kernel\n",
    "import ROOT as r\n",
    "from ROOT import *\n",
    "import os"
   ]
  },
  {
   "cell_type": "code",
   "execution_count": null,
   "metadata": {},
   "outputs": [],
   "source": [
    "# Open .root file - replace the first arguement with the name of the file\n",
    "histFile = r.TFile.Open(\"out/Zee_fast.root\",\"READ\")\n",
    "\n",
    "# Read in histograms - keep variable names clear and suitable for each histogram\n",
    "# The argument of the 'Get()' function should be the name of the histogram you want to view\n",
    "# To find out what the histogram names are, look at Analysis.py\n",
    "hist_3lep_pt = histFile.Get(\"h_3lep_pt\")\n",
    "hist_lep_pt_mean = histFile.Get(\"h_lep_pt_mean\")\n",
    "\n",
    "# Change the histogram directories so that they do not disappear once the root file has been closed\n",
    "hist_3lep_pt.SetDirectory(0)\n",
    "hist_lep_pt_mean.SetDirectory(0)\n",
    "\n",
    "# Close .root file\n",
    "histFile.Close()"
   ]
  },
  {
   "cell_type": "code",
   "execution_count": null,
   "metadata": {},
   "outputs": [],
   "source": [
    "# Allow 'integral' value to be shown in statistics box of all histograms\n",
    "gStyle.SetOptStat(1111111)\n",
    "\n",
    "# This next block of code is used to display one histogram - its style must be repeated for every histogram you want to plot.\n",
    "\n",
    "# FIRST HISTOGRAM\n",
    "\n",
    "# Make the first canvas \n",
    "# For simplicity the variable referring to the canvas should be the same as its name (given by the argument of \"TCanvas()\")\n",
    "canvas1 = r.TCanvas(\"canvas1\")\n",
    "\n",
    "# Draw out the first histogram of your choice onto the canvas\n",
    "hist_3lep_pt.Draw()\n",
    "\n",
    "# Show historgram by displaying the canvas\n",
    "canvas1.Draw()\n",
    "\n",
    "# SECOND HISTOGRAM\n",
    "\n",
    "# Make a second canvas\n",
    "canvas2 = r.TCanvas(\"canvas2\")\n",
    "\n",
    "# Draw out the second histogram onto this new canvas\n",
    "hist_lep_pt_mean.Draw()\n",
    "\n",
    "# Show historgram by displaying this new canvas\n",
    "canvas2.Draw()"
   ]
  },
  {
   "cell_type": "markdown",
   "metadata": {},
   "source": [
    "It is important to note that any canvas' you make showing histograms can be saved as images on your computer by right-clicking the image and selecting \"Save image as...\""
   ]
  },
  {
   "cell_type": "markdown",
   "metadata": {},
   "source": [
    "# Section 3: Making stacked plots\n",
    "\n",
    "This section contains just a single cell which contains code do the following:\n",
    "\n",
    "1. Open up multiple example .root files and retrieve histograms\n",
    "2. Make a stacked histogram through the use of THStack, and add the read-in histograms to it\n",
    "3. Add the histogram referring to ATLAS data so that it can be compared with the MC contributions\n",
    "\n",
    "For useful information on THStack, please click [here](https://root.cern.ch/doc/master/classTHStack.html)\n",
    "\n",
    "This is a 'stacked' plot - the histograms of MC contributions are 'stacked' on top of each other. This means that the order in which you add each histogram to the stack will affect each contribution's position in the stacked plot.\n",
    "\n",
    "Stacked plots can be used to identify the size of different contributions to data.\n",
    "\n",
    "Beginning with an example stacked plot of mean lepton transverse momentum per event: Run *RunAnalysis.py* using the cell in Section 1 of this notebook, using the string codes \"Zee\", \"Zmumu\", \"Ztautau\" and \"2lep\", and use fast mode by typing \"yes\". Then run the cell below to generate the stacked plot. From this plot, you should be able to interpret that the combination of the processes of a Z boson decaying to different same-flavour lepton pairs contributes to most of the ATLAS data set.\n",
    "\n",
    "These stacked plots can be applied to other histograms, such as those investigating invariant mass."
   ]
  },
  {
   "cell_type": "code",
   "execution_count": 8,
   "metadata": {},
   "outputs": [
    {
     "name": "stderr",
     "output_type": "stream",
     "text": [
      "Warning in <TCanvas::Constructor>: Deleting canvas with same name: canvasstack\n",
      "Warning in <TCanvas::Constructor>: Deleting canvas with same name: canvasstack\n"
     ]
    },
    {
     "data": {
      "image/png": "[encoded data removed]",
      "text/plain": [
       "<IPython.core.display.Image object>"
      ]
     },
     "metadata": {},
     "output_type": "display_data"
    },
    {
     "data": {
      "image/png": "[encoded data removed]",
      "text/plain": [
       "<IPython.core.display.Image object>"
      ]
     },
     "metadata": {},
     "output_type": "display_data"
    }
   ],
   "source": [
    "# Opening files up\n",
    "#histFile_2lep = r.TFile.Open(\"out/2lep_fast.root\",\"READ\")\n",
    "#histFile_Zee = r.TFile.Open(\"out/Zee_fast.root\",\"READ\")\n",
    "histFile_Zmumu = r.TFile.Open(\"out/Zmumu_fast.root\",\"READ\")\n",
    "#histFile_Ztautau = r.TFile.Open(\"out/Ztautau_fast.root\",\"READ\")\n",
    "\n",
    "# Get histograms\n",
    "#dataHist = histFile_2lep.Get(\"h_lep_pt_mean\")\n",
    "#mcHist_Zee = histFile_Zee.Get(\"h_lep_pt_mean\")\n",
    "mcHist_Zmumu = histFile_Zmumu.Get(\"h_lep_pt_mean\")\n",
    "#mcHist_Ztautau = histFile_Ztautau.Get(\"h_lep_pt_mean\")\n",
    "\n",
    "# Change the histograms directory once read in so that they do not get delected when files close\n",
    "dataHist.SetDirectory(0)\n",
    "#mcHist_Zee.SetDirectory(0)\n",
    "mcHist_Zmumu.SetDirectory(0)\n",
    "#mcHist_Ztautau.SetDirectory(0)\n",
    "\n",
    "# Close the files\n",
    "#histFile_2lep.Close()\n",
    "#histFile_Zee.Close()\n",
    "histFile_Zmumu.Close()\n",
    "#histFile_Ztautau.Close()\n",
    "\n",
    "# MAKING A STACKED PLOT - ALL MC CONTRIBUTIONS STACKED ON TOP OF EACH OTHER, COMPARED WITH DATA\n",
    "\n",
    "# Make a canvas\n",
    "canvasstack = r.TCanvas(\"canvasstack\")\n",
    "\n",
    "# Make a stacked histogram\n",
    "hs = r.THStack(\"hs\",\"Stacked plot\")\n",
    "\n",
    "# Configure and plot the 2lep data\n",
    "dataHist.SetTitle(\"Stacked plot of MC contributions compared with data corresponding to mean lepton transverse momentum\")\n",
    "dataHist.GetXaxis().SetTitle(\"Transverse momentum (MeV)\")\n",
    "dataHist.GetYaxis().SetTitle(\"Number of entries/bin\")\n",
    "dataHist.SetStats(0)\n",
    "dataHist.SetLineColor(r.kBlack)\n",
    "dataHist.SetLineWidth(1)\n",
    "dataHist.SetMarkerColor(r.kBlack)\n",
    "dataHist.SetMarkerStyle(21)\n",
    "dataHist.SetMarkerSize(0.5)\n",
    "dataHist.Draw(\"e\")\n",
    "\n",
    "# Add MC contributions to the stacked histogram\n",
    "#mcHist_Zee.SetLineColor(r.kBlue)\n",
    "#mcHist_Zee.SetFillColor(r.kBlue)\n",
    "#hs.Add(mcHist_Zee,\"h\")\n",
    "mcHist_Zmumu.SetLineColor(r.kGreen)\n",
    "mcHist_Zmumu.SetFillColor(r.kGreen)\n",
    "hs.Add(mcHist_Zmumu,\"h\")\n",
    "#mcHist_Ztautau.SetLineColor(r.kRed)\n",
    "#mcHist_Ztautau.SetFillColor(r.kRed)\n",
    "#hs.Add(mcHist_Ztautau,\"h\")\n",
    "\n",
    "# Draw the stacked plot onto the canvas\n",
    "hs.Draw(\"same,hist\")\n",
    "\n",
    "# Draw the data on the same canvas\n",
    "#dataHist.Draw(\"e,same\")\n",
    "\n",
    "# Edit the x axis range of both stacked plot and data\n",
    "hs.GetXaxis().SetRangeUser(0,120e3)\n",
    "#dataHist.GetXaxis().SetRangeUser(0,120e3)\n",
    "\n",
    "# Add a legend to the plot\n",
    "legend = r.TLegend(0.7,0.45,0.9,0.85)\n",
    "#legend.AddEntry(mcHist_Zee,\"Zee MC\")\n",
    "legend.AddEntry(mcHist_Zmumu,\"Zmumu MC\")\n",
    "#legend.AddEntry(mcHist_Ztautau,\"Ztautau MC\")\n",
    "#legend.AddEntry(dataHist,\"2lep Data\")\n",
    "legend.SetLineWidth(0)\n",
    "legend.Draw(\"same\")\n",
    "\n",
    "# Plot the canvas\n",
    "canvasstack.Draw()\n"
   ]
  },
  {
   "cell_type": "markdown",
   "metadata": {},
   "source": [
    "## Appendix\n",
    "\n",
    "### Frequenctly asked questions\n",
    "\n",
    "**What do I do if I get a pop-up message saying I have lost connection?**\n",
    "\n",
    "If this happens to you and you are connected to the internet, first copy all cells to a text editor file that you editted since the notebook was last saved. Then close all Jupyter windows in your browser. After this, please go to the terminal window you used to complete steps 4-9 of Section 5.3 of the lab script, and a message should display saying \"connection reset...\". Starting from the new command line that should appear, please complete steps 5-9 again of Section 5.3 of the lab script. Once you are back using Jupyter, return to the notebook, and copy and paste any material necessary from the notepad file you made to the appropriate place. If this happens to you and you are not connected to the internet anymore, first try to reconnect to the internet BEFORE completing the steps above.\n",
    "\n",
    "**Why did my cell output change the second time I ran it, when it shouldn't have changed?**\n",
    "\n",
    "This is most likely due to at least one of the following:\n",
    "\n",
    "1. Any files you have read in may not be the same as they were before. To avoid this you need to rename your .root files after every run of *RunAnalysis.py* to prevent them from being overwritten.\n",
    "2. Any variables that are used in the cell may have been redefined outside of this cell. To avoid this, do not redefine variables in different cells unless necessary, e.g do not use 'canvas' for all your TCanvas variable names.\n",
    "\n",
    "**Why can't I read in the new histograms I made?**\n",
    "\n",
    "This is most likely because you did not restart the kernel before running *RunAnalysis.py*. This would mean the previous version of *Analysis.py* is being used by *RunAnalysis.py*, in which the histograms you are trying the access did not exist. Always make sure you save *Analysis.py* if you have made changes to it, and then restart your kernel before running the script."
   ]
  },
  {
   "cell_type": "code",
   "execution_count": null,
   "metadata": {},
   "outputs": [],
   "source": []
  }
 ],
 "metadata": {
  "kernelspec": {
   "display_name": "Python 3",
   "language": "python",
   "name": "python3"
  },
  "language_info": {
   "codemirror_mode": {
    "name": "ipython",
    "version": 3
   },
   "file_extension": ".py",
   "mimetype": "text/x-python",
   "name": "python",
   "nbconvert_exporter": "python",
   "pygments_lexer": "ipython3",
   "version": "3.8.3"
  }
 },
 "nbformat": 4,
 "nbformat_minor": 4
}
